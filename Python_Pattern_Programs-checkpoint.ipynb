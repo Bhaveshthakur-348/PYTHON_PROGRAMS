{
 "cells": [
  {
   "cell_type": "markdown",
   "metadata": {},
   "source": [
    "# Python_Pattern_Programs"
   ]
  },
  {
   "cell_type": "markdown",
   "metadata": {},
   "source": [
    "## 1. Square_Pattern"
   ]
  },
  {
   "cell_type": "code",
   "execution_count": 1,
   "metadata": {},
   "outputs": [
    {
     "name": "stdout",
     "output_type": "stream",
     "text": [
      "enter any no.:5\n",
      "*  *  *  *  *  "
     ]
    }
   ],
   "source": [
    "n=int(input(\"enter any no.:\"))\n",
    "for i in range(n):\n",
    "      print('* ',end=\" \")"
   ]
  },
  {
   "cell_type": "code",
   "execution_count": 3,
   "metadata": {},
   "outputs": [
    {
     "name": "stdout",
     "output_type": "stream",
     "text": [
      "enter any no.:5\n",
      "* * * * * \n",
      "* * * * * \n",
      "* * * * * \n",
      "* * * * * \n",
      "* * * * * \n"
     ]
    }
   ],
   "source": [
    "n=int(input(\"enter any no.:\"))\n",
    "for i in range(n):\n",
    "      print('* '*n)"
   ]
  },
  {
   "cell_type": "code",
   "execution_count": 4,
   "metadata": {},
   "outputs": [
    {
     "name": "stdout",
     "output_type": "stream",
     "text": [
      "enter any no.:5\n",
      "5 5 5 5 5 \n",
      "5 5 5 5 5 \n",
      "5 5 5 5 5 \n",
      "5 5 5 5 5 \n",
      "5 5 5 5 5 \n"
     ]
    }
   ],
   "source": [
    "n=int(input(\"enter any no.:\"))\n",
    "for i in range(n):\n",
    "      print((str(n)+\" \")*n)"
   ]
  },
  {
   "cell_type": "code",
   "execution_count": 11,
   "metadata": {},
   "outputs": [
    {
     "name": "stdout",
     "output_type": "stream",
     "text": [
      "enter any no.:5\n",
      "1 1 1 1 1 \n",
      "2 2 2 2 2 \n",
      "3 3 3 3 3 \n",
      "4 4 4 4 4 \n",
      "5 5 5 5 5 \n"
     ]
    }
   ],
   "source": [
    "n=int(input(\"enter any no.:\"))\n",
    "for i in range(n):\n",
    "      print((str(i+1)+\" \")*n)"
   ]
  },
  {
   "cell_type": "code",
   "execution_count": 12,
   "metadata": {},
   "outputs": [
    {
     "name": "stdout",
     "output_type": "stream",
     "text": [
      "enter any no.:5\n",
      "1 2 3 4 5 \n",
      "1 2 3 4 5 \n",
      "1 2 3 4 5 \n",
      "1 2 3 4 5 \n",
      "1 2 3 4 5 \n"
     ]
    }
   ],
   "source": [
    "n=int(input(\"enter any no.:\"))\n",
    "for i in range(n):\n",
    "    for j in range(1,n+1):\n",
    "        print(j,end=' ')\n",
    "    print()"
   ]
  },
  {
   "cell_type": "code",
   "execution_count": 13,
   "metadata": {},
   "outputs": [
    {
     "name": "stdout",
     "output_type": "stream",
     "text": [
      "enter any no.:5\n",
      "A A A A A \n",
      "A A A A A \n",
      "A A A A A \n",
      "A A A A A \n",
      "A A A A A \n"
     ]
    }
   ],
   "source": [
    "n=int(input(\"enter any no.:\"))\n",
    "for i in range(n):\n",
    "      print('A '*n)"
   ]
  },
  {
   "cell_type": "code",
   "execution_count": 14,
   "metadata": {},
   "outputs": [
    {
     "name": "stdout",
     "output_type": "stream",
     "text": [
      "enter any no.:5\n",
      "A A A A A \n",
      "B B B B B \n",
      "C C C C C \n",
      "D D D D D \n",
      "E E E E E \n"
     ]
    }
   ],
   "source": [
    "n=int(input(\"enter any no.:\"))\n",
    "for i in range(n):\n",
    "      print((chr(65+i)+' ')*n)"
   ]
  },
  {
   "cell_type": "code",
   "execution_count": 18,
   "metadata": {},
   "outputs": [
    {
     "name": "stdout",
     "output_type": "stream",
     "text": [
      "enter any no.:5\n",
      "A B C D E \n",
      "A B C D E \n",
      "A B C D E \n",
      "A B C D E \n",
      "A B C D E \n"
     ]
    }
   ],
   "source": [
    "n=int(input(\"enter any no.:\"))\n",
    "for i in range(n):\n",
    "    for j in range(n):\n",
    "        print(chr(65+j),end=' ')\n",
    "    print()"
   ]
  },
  {
   "cell_type": "code",
   "execution_count": 19,
   "metadata": {},
   "outputs": [
    {
     "name": "stdout",
     "output_type": "stream",
     "text": [
      "enter no of rows:5\n",
      "5 5 5 5 5 \n",
      "4 4 4 4 4 \n",
      "3 3 3 3 3 \n",
      "2 2 2 2 2 \n",
      "1 1 1 1 1 \n"
     ]
    }
   ],
   "source": [
    "n=int(input(\"enter no of rows:\"))\n",
    "for i in range(n):\n",
    "      print((str(n-i)+' ')*n)"
   ]
  },
  {
   "cell_type": "code",
   "execution_count": 20,
   "metadata": {},
   "outputs": [
    {
     "name": "stdout",
     "output_type": "stream",
     "text": [
      "enter no of rows:5\n",
      "E E E E E \n",
      "D D D D D \n",
      "C C C C C \n",
      "B B B B B \n",
      "A A A A A \n"
     ]
    }
   ],
   "source": [
    "n=int(input(\"enter no of rows:\"))\n",
    "for i in range(n):\n",
    "      print((chr(64+n-i)+' ')*n)"
   ]
  },
  {
   "cell_type": "code",
   "execution_count": 21,
   "metadata": {},
   "outputs": [
    {
     "name": "stdout",
     "output_type": "stream",
     "text": [
      "enter no of rows:5\n",
      "5 4 3 2 1 \n",
      "5 4 3 2 1 \n",
      "5 4 3 2 1 \n",
      "5 4 3 2 1 \n",
      "5 4 3 2 1 \n"
     ]
    }
   ],
   "source": [
    "n=int(input(\"enter no of rows:\"))\n",
    "for i in range(n):\n",
    "    for j in range(n):\n",
    "        print(n-j,end=\" \")\n",
    "    print()"
   ]
  },
  {
   "cell_type": "code",
   "execution_count": 22,
   "metadata": {},
   "outputs": [
    {
     "name": "stdout",
     "output_type": "stream",
     "text": [
      "enter no of rows:5\n",
      "E D C B A \n",
      "E D C B A \n",
      "E D C B A \n",
      "E D C B A \n",
      "E D C B A \n"
     ]
    }
   ],
   "source": [
    "n=int(input(\"enter no of rows:\"))\n",
    "for i in range(n):\n",
    "    for j in range(n):\n",
    "        print(chr(64+n-j),end=\" \")\n",
    "    print()"
   ]
  },
  {
   "cell_type": "markdown",
   "metadata": {},
   "source": [
    "## 2. Right_Angle_Traingle_Pattern"
   ]
  },
  {
   "cell_type": "code",
   "execution_count": 23,
   "metadata": {},
   "outputs": [
    {
     "name": "stdout",
     "output_type": "stream",
     "text": [
      "enter no of rows:5\n",
      "* \n",
      "* * \n",
      "* * * \n",
      "* * * * \n",
      "* * * * * \n"
     ]
    }
   ],
   "source": [
    "n=int(input(\"enter no of rows:\"))\n",
    "for i in range(n):\n",
    "    print((i+1)*('* '))"
   ]
  },
  {
   "cell_type": "code",
   "execution_count": 1,
   "metadata": {},
   "outputs": [
    {
     "name": "stdout",
     "output_type": "stream",
     "text": [
      "enter no of rows:5\n",
      "1 \n",
      "2 2 \n",
      "3 3 3 \n",
      "4 4 4 4 \n",
      "5 5 5 5 5 \n"
     ]
    }
   ],
   "source": [
    "n=int(input(\"enter no of rows:\"))\n",
    "for i in range(n):\n",
    "    print((i+1)*(str(i+1)+' '))"
   ]
  },
  {
   "cell_type": "code",
   "execution_count": 2,
   "metadata": {},
   "outputs": [
    {
     "name": "stdout",
     "output_type": "stream",
     "text": [
      "enter no of rows:5\n",
      "A \n",
      "B B \n",
      "C C C \n",
      "D D D D \n",
      "E E E E E \n"
     ]
    }
   ],
   "source": [
    "n=int(input(\"enter no of rows:\"))\n",
    "for i in range(n):\n",
    "    print((i+1)*(chr(65+i)+' '))"
   ]
  },
  {
   "cell_type": "code",
   "execution_count": 3,
   "metadata": {},
   "outputs": [
    {
     "name": "stdout",
     "output_type": "stream",
     "text": [
      "enter no of rows:5\n",
      "1 \n",
      "1 2 \n",
      "1 2 3 \n",
      "1 2 3 4 \n",
      "1 2 3 4 5 \n"
     ]
    }
   ],
   "source": [
    "n=int(input(\"enter no of rows:\"))\n",
    "for i in range(n):\n",
    "    for j in range(i+1):\n",
    "        print(j+1,end=' ')\n",
    "    print()"
   ]
  },
  {
   "cell_type": "code",
   "execution_count": 9,
   "metadata": {},
   "outputs": [
    {
     "name": "stdout",
     "output_type": "stream",
     "text": [
      "enter no of rows:5\n",
      "A \n",
      "A B \n",
      "A B C \n",
      "A B C D \n",
      "A B C D E \n"
     ]
    }
   ],
   "source": [
    "n=int(input(\"enter no of rows:\"))\n",
    "for i in range(n):\n",
    "    for j in range(i+1):\n",
    "        print(chr(65+j),end=\" \")\n",
    "    print()"
   ]
  },
  {
   "cell_type": "markdown",
   "metadata": {},
   "source": [
    "## 3. Inverted_Right_Angle_Traingle_Pattern"
   ]
  },
  {
   "cell_type": "code",
   "execution_count": 13,
   "metadata": {},
   "outputs": [
    {
     "name": "stdout",
     "output_type": "stream",
     "text": [
      "enter no of rows:5\n",
      "* * * * * \n",
      "* * * * \n",
      "* * * \n",
      "* * \n",
      "* \n"
     ]
    }
   ],
   "source": [
    "n=int(input(\"enter no of rows:\"))\n",
    "for i in range(n):\n",
    "    print((n-i)*'* ')"
   ]
  },
  {
   "cell_type": "code",
   "execution_count": 18,
   "metadata": {},
   "outputs": [
    {
     "name": "stdout",
     "output_type": "stream",
     "text": [
      "enter no of rows:5\n",
      "1 2 3 4 5 \n",
      "1 2 3 4 \n",
      "1 2 3 \n",
      "1 2 \n",
      "1 \n"
     ]
    }
   ],
   "source": [
    "n=int(input(\"enter no of rows:\"))\n",
    "for i in range(n):\n",
    "    for j in range(n-i):\n",
    "        print(j+1,end=\" \")\n",
    "    print()"
   ]
  },
  {
   "cell_type": "code",
   "execution_count": 20,
   "metadata": {},
   "outputs": [
    {
     "name": "stdout",
     "output_type": "stream",
     "text": [
      "enter no of rows:5\n",
      "A B C D E \n",
      "A B C D \n",
      "A B C \n",
      "A B \n",
      "A \n"
     ]
    }
   ],
   "source": [
    "n=int(input(\"enter no of rows:\"))\n",
    "for i in range(n):\n",
    "    for j in range(n-i):\n",
    "        print(chr(65+j),end=' ')\n",
    "    print()"
   ]
  },
  {
   "cell_type": "code",
   "execution_count": 21,
   "metadata": {},
   "outputs": [
    {
     "name": "stdout",
     "output_type": "stream",
     "text": [
      "enter no of rows:5\n",
      "5 4 3 2 1 \n",
      "5 4 3 2 \n",
      "5 4 3 \n",
      "5 4 \n",
      "5 \n"
     ]
    }
   ],
   "source": [
    "n=int(input(\"enter no of rows:\"))\n",
    "for i in range(n):\n",
    "    for j in range(n-i):\n",
    "        print(n-j,end=\" \")\n",
    "    print()"
   ]
  },
  {
   "cell_type": "code",
   "execution_count": 24,
   "metadata": {},
   "outputs": [
    {
     "name": "stdout",
     "output_type": "stream",
     "text": [
      "enter no of rows:5\n",
      "E D C B A \n",
      "E D C B \n",
      "E D C \n",
      "E D \n",
      "E \n"
     ]
    }
   ],
   "source": [
    "n=int(input(\"enter no of rows:\"))\n",
    "for i in range(n):\n",
    "    for j in range(n-i):\n",
    "        print(chr(64+n-j),end=' ')\n",
    "    print()"
   ]
  },
  {
   "cell_type": "markdown",
   "metadata": {},
   "source": [
    "## 4. Pyramid_Pattern"
   ]
  },
  {
   "cell_type": "code",
   "execution_count": 1,
   "metadata": {},
   "outputs": [
    {
     "name": "stdout",
     "output_type": "stream",
     "text": [
      "enter no of rows:5\n",
      "    * \n",
      "   * * \n",
      "  * * * \n",
      " * * * * \n",
      "* * * * * \n"
     ]
    }
   ],
   "source": [
    "n=int(input(\"enter no of rows:\"))\n",
    "for i in range(n):\n",
    "    print(' '*(n-i-1)+'* '*(i+1))\n",
    "   "
   ]
  },
  {
   "cell_type": "code",
   "execution_count": 3,
   "metadata": {},
   "outputs": [
    {
     "name": "stdout",
     "output_type": "stream",
     "text": [
      "enter no of rows:5\n",
      "    1 \n",
      "   2 2 \n",
      "  3 3 3 \n",
      " 4 4 4 4 \n",
      "5 5 5 5 5 \n"
     ]
    }
   ],
   "source": [
    "n=int(input(\"enter no of rows:\"))\n",
    "for i in range(n):\n",
    "    print(' '*(n-i-1)+(str(i+1)+' ')*(i+1))"
   ]
  },
  {
   "cell_type": "code",
   "execution_count": 4,
   "metadata": {},
   "outputs": [
    {
     "name": "stdout",
     "output_type": "stream",
     "text": [
      "enter no of rows:5\n",
      "    A \n",
      "   B B \n",
      "  C C C \n",
      " D D D D \n",
      "E E E E E \n"
     ]
    }
   ],
   "source": [
    "n=int(input(\"enter no of rows:\"))\n",
    "for i in range(n):\n",
    "    print(' '*(n-i-1)+(chr(65+i)+' ')*(i+1))"
   ]
  },
  {
   "cell_type": "code",
   "execution_count": 7,
   "metadata": {},
   "outputs": [
    {
     "name": "stdout",
     "output_type": "stream",
     "text": [
      "enter no of rows:5\n",
      "     1 \n",
      "    1 2 \n",
      "   1 2 3 \n",
      "  1 2 3 4 \n",
      " 1 2 3 4 5 \n"
     ]
    }
   ],
   "source": [
    "n=int(input(\"enter no of rows:\"))\n",
    "for i in range(n):\n",
    "    print(' '*(n-i-1),end=\" \")\n",
    "    for j in range(i+1):\n",
    "        print(j+1,end=\" \")\n",
    "    print()\n",
    "    "
   ]
  },
  {
   "cell_type": "code",
   "execution_count": 1,
   "metadata": {},
   "outputs": [
    {
     "name": "stdout",
     "output_type": "stream",
     "text": [
      "enter no of rows:5\n",
      "     A \n",
      "    A B \n",
      "   A B C \n",
      "  A B C D \n",
      " A B C D E \n"
     ]
    }
   ],
   "source": [
    "n=int(input(\"enter no of rows:\"))\n",
    "for i in range(n):\n",
    "    print(' '*(n-i-1),end=\" \")\n",
    "    for j in range(i+1):\n",
    "        print(chr(65+j),end=\" \")\n",
    "    print()"
   ]
  },
  {
   "cell_type": "code",
   "execution_count": 2,
   "metadata": {},
   "outputs": [
    {
     "name": "stdout",
     "output_type": "stream",
     "text": [
      "enter no of rows:5\n",
      "     5 \n",
      "    5 4 \n",
      "   5 4 3 \n",
      "  5 4 3 2 \n",
      " 5 4 3 2 1 \n"
     ]
    }
   ],
   "source": [
    "n=int(input(\"enter no of rows:\"))\n",
    "for i in range(n):\n",
    "    print(' '*(n-i-1),end=\" \")\n",
    "    for j in range(i+1):\n",
    "        print(n-j,end=\" \")\n",
    "    print()"
   ]
  },
  {
   "cell_type": "code",
   "execution_count": 22,
   "metadata": {},
   "outputs": [
    {
     "name": "stdout",
     "output_type": "stream",
     "text": [
      "enter no of rows:5\n",
      "     E \n",
      "    E D \n",
      "   E D C \n",
      "  E D C B \n",
      " E D C B A \n"
     ]
    }
   ],
   "source": [
    "n=int(input(\"enter no of rows:\"))\n",
    "for i in range(n):\n",
    "    print(' '*(n-i-1),end=\" \")\n",
    "    for j in range(i+1):\n",
    "        print(chr(64+n-j),end=\" \")\n",
    "    print()"
   ]
  },
  {
   "cell_type": "markdown",
   "metadata": {},
   "source": [
    "## 5. Inverted_Pyramid_Pattern"
   ]
  },
  {
   "cell_type": "code",
   "execution_count": 23,
   "metadata": {},
   "outputs": [
    {
     "name": "stdout",
     "output_type": "stream",
     "text": [
      "enter no of rows:5\n",
      "* * * * * \n",
      " * * * * \n",
      "  * * * \n",
      "   * * \n",
      "    * \n"
     ]
    }
   ],
   "source": [
    "n=int(input(\"enter no of rows:\"))\n",
    "for i in range(n):\n",
    "    print(' '*(i)+'* '*(n-i))"
   ]
  },
  {
   "cell_type": "code",
   "execution_count": 24,
   "metadata": {},
   "outputs": [
    {
     "name": "stdout",
     "output_type": "stream",
     "text": [
      "enter no of rows:5\n",
      "1 1 1 1 1 \n",
      " 2 2 2 2 \n",
      "  3 3 3 \n",
      "   4 4 \n",
      "    5 \n"
     ]
    }
   ],
   "source": [
    "n=int(input(\"enter no of rows:\"))\n",
    "for i in range(n):\n",
    "    print(' '*(i)+(str(i+1)+' ')*(n-i))"
   ]
  },
  {
   "cell_type": "code",
   "execution_count": 25,
   "metadata": {},
   "outputs": [
    {
     "name": "stdout",
     "output_type": "stream",
     "text": [
      "enter no of rows:5\n",
      "A A A A A \n",
      " B B B B \n",
      "  C C C \n",
      "   D D \n",
      "    E \n"
     ]
    }
   ],
   "source": [
    "n=int(input(\"enter no of rows:\"))\n",
    "for i in range(n):\n",
    "    print(' '*(i)+(chr(65+i)+' ')*(n-i))"
   ]
  },
  {
   "cell_type": "code",
   "execution_count": 26,
   "metadata": {},
   "outputs": [
    {
     "name": "stdout",
     "output_type": "stream",
     "text": [
      "enter no of rows:5\n",
      " 1 2 3 4 5 \n",
      "  1 2 3 4 \n",
      "   1 2 3 \n",
      "    1 2 \n",
      "     1 \n"
     ]
    }
   ],
   "source": [
    "n=int(input(\"enter no of rows:\"))\n",
    "for i in range(n):\n",
    "    print(' '*(i),end=\" \")\n",
    "    for j in range(n-i):\n",
    "        print(j+1,end=\" \")\n",
    "    print()"
   ]
  },
  {
   "cell_type": "code",
   "execution_count": 27,
   "metadata": {},
   "outputs": [
    {
     "name": "stdout",
     "output_type": "stream",
     "text": [
      "enter no of rows:5\n",
      " A B C D E \n",
      "  A B C D \n",
      "   A B C \n",
      "    A B \n",
      "     A \n"
     ]
    }
   ],
   "source": [
    "n=int(input(\"enter no of rows:\"))\n",
    "for i in range(n):\n",
    "    print(' '*(i),end=\" \")\n",
    "    for j in range(n-i):\n",
    "        print(chr(65+j),end=\" \")\n",
    "    print()"
   ]
  },
  {
   "cell_type": "code",
   "execution_count": 29,
   "metadata": {},
   "outputs": [
    {
     "name": "stdout",
     "output_type": "stream",
     "text": [
      "enter no of rows:5\n",
      " 5 4 3 2 1 \n",
      "  5 4 3 2 \n",
      "   5 4 3 \n",
      "    5 4 \n",
      "     5 \n"
     ]
    }
   ],
   "source": [
    "n=int(input(\"enter no of rows:\"))\n",
    "for i in range(n):\n",
    "    print(' '*(i),end=\" \")\n",
    "    for j in range(n-i):\n",
    "        print(n-j,end=\" \")\n",
    "    print()"
   ]
  },
  {
   "cell_type": "code",
   "execution_count": 31,
   "metadata": {},
   "outputs": [
    {
     "name": "stdout",
     "output_type": "stream",
     "text": [
      "enter no of rows:5\n",
      " E D C B A \n",
      "  E D C B \n",
      "   E D C \n",
      "    E D \n",
      "     E \n"
     ]
    }
   ],
   "source": [
    "n=int(input(\"enter no of rows:\"))\n",
    "for i in range(n):\n",
    "    print(' '*(i),end=\" \")\n",
    "    for j in range(n-i):\n",
    "        print(chr(64+n-j),end=\" \")\n",
    "    print()"
   ]
  },
  {
   "cell_type": "markdown",
   "metadata": {},
   "source": [
    "## 6. Diamond_Pattern"
   ]
  },
  {
   "cell_type": "code",
   "execution_count": 6,
   "metadata": {},
   "outputs": [
    {
     "name": "stdout",
     "output_type": "stream",
     "text": [
      "enter no of rows:4\n",
      "    * \n",
      "   * * \n",
      "  * * * \n",
      " * * * * \n",
      "  * * * \n",
      "   * * \n",
      "    * \n"
     ]
    }
   ],
   "source": [
    "n=int(input(\"enter no of rows:\"))\n",
    "for i in range(n):\n",
    "    print(' '*(n-i-1),\"* \"*(i+1))\n",
    "for i in range(n-1):\n",
    "    print(' '*(i+1),'* '*(n-i-1))"
   ]
  },
  {
   "cell_type": "code",
   "execution_count": 8,
   "metadata": {},
   "outputs": [
    {
     "name": "stdout",
     "output_type": "stream",
     "text": [
      "enter no of rows:4\n",
      "    1 \n",
      "   2 2 \n",
      "  3 3 3 \n",
      " 4 4 4 4 \n",
      "  3 3 3 \n",
      "   2 2 \n",
      "    1 \n"
     ]
    }
   ],
   "source": [
    "n=int(input(\"enter no of rows:\"))\n",
    "for i in range(n):\n",
    "    print(' '*(n-i-1),(str(i+1)+' ')*(i+1))\n",
    "for i in range(n-1):\n",
    "    print(' '*(i+1),(str(n-i-1)+' ')*(n-i-1))"
   ]
  },
  {
   "cell_type": "code",
   "execution_count": 3,
   "metadata": {},
   "outputs": [
    {
     "name": "stdout",
     "output_type": "stream",
     "text": [
      "enter no of rows:4\n",
      "    A \n",
      "   B B \n",
      "  C C C \n",
      " D D D D \n",
      "  C C C \n",
      "   B B \n",
      "    A \n"
     ]
    }
   ],
   "source": [
    "n=int(input(\"enter no of rows:\"))\n",
    "for i in range(n):\n",
    "    print(' '*(n-i-1),(chr(65+i)+' ')*(i+1))\n",
    "for i in range(n-1):\n",
    "    print(' '*(i+1),(chr(63+n-i)+' ')*(n-i-1))"
   ]
  },
  {
   "cell_type": "code",
   "execution_count": 13,
   "metadata": {},
   "outputs": [
    {
     "name": "stdout",
     "output_type": "stream",
     "text": [
      "enter no of rows:4\n",
      "    1 \n",
      "   1 2 \n",
      "  1 2 3 \n",
      " 1 2 3 4 \n",
      "  1 2 3 \n",
      "   1 2 \n",
      "    1 \n"
     ]
    }
   ],
   "source": [
    "n=int(input(\"enter no of rows:\"))\n",
    "for i in range(n):\n",
    "    print(' '*(n-i-1),end=\" \")\n",
    "    for j in range(i+1):\n",
    "        print(j+1,end=\" \")\n",
    "    print()\n",
    "for i in range(n-1):\n",
    "    print(' '*(i+1),end=\" \")\n",
    "    for j in range(n-i-1):\n",
    "        print(j+1,end=' ')\n",
    "    print()"
   ]
  },
  {
   "cell_type": "code",
   "execution_count": 3,
   "metadata": {},
   "outputs": [
    {
     "name": "stdout",
     "output_type": "stream",
     "text": [
      "enter no of rows:4\n",
      "    A \n",
      "   A B \n",
      "  A B C \n",
      " A B C D \n",
      "  A B C \n",
      "   A B \n",
      "    A \n"
     ]
    }
   ],
   "source": [
    "n=int(input(\"enter no of rows:\"))\n",
    "for i in range(n):\n",
    "    print(' '*(n-i-1),end=\" \")\n",
    "    for j in range(i+1):\n",
    "        print(chr(65+j),end=\" \")\n",
    "    print()\n",
    "for i in range(n-1):\n",
    "    print(' '*(i+1),end=\" \")\n",
    "    for j in range(n-i-1):\n",
    "        print(chr(65+j),end=' ')\n",
    "    print()"
   ]
  },
  {
   "cell_type": "code",
   "execution_count": 4,
   "metadata": {},
   "outputs": [
    {
     "name": "stdout",
     "output_type": "stream",
     "text": [
      "enter no of rows:4\n",
      "    4 \n",
      "   4 3 \n",
      "  4 3 2 \n",
      " 4 3 2 1 \n",
      "  4 3 2 \n",
      "   4 3 \n",
      "    4 \n"
     ]
    }
   ],
   "source": [
    "n=int(input(\"enter no of rows:\"))\n",
    "for i in range(n):\n",
    "    print(' '*(n-i-1),end=\" \")\n",
    "    for j in range(i+1):\n",
    "        print(n-j,end=\" \")\n",
    "    print()\n",
    "for i in range(n-1):\n",
    "    print(' '*(i+1),end=\" \")\n",
    "    for j in range(n-i-1):\n",
    "        print(n-j,end=' ')\n",
    "    print()"
   ]
  },
  {
   "cell_type": "code",
   "execution_count": 6,
   "metadata": {},
   "outputs": [
    {
     "name": "stdout",
     "output_type": "stream",
     "text": [
      "enter no of rows:4\n",
      "    D \n",
      "   D C \n",
      "  D C B \n",
      " D C B A \n",
      "  D C B \n",
      "   D C \n",
      "    D \n"
     ]
    }
   ],
   "source": [
    "n=int(input(\"enter no of rows:\"))\n",
    "for i in range(n):\n",
    "    print(' '*(n-i-1),end=\" \")\n",
    "    for j in range(i+1):\n",
    "        print(chr(64+n-j),end=\" \")\n",
    "    print()\n",
    "for i in range(n-1):\n",
    "    print(' '*(i+1),end=\" \")\n",
    "    for j in range(n-i-1):\n",
    "        print(chr(64+n-j),end=' ')\n",
    "    print()"
   ]
  },
  {
   "cell_type": "markdown",
   "metadata": {},
   "source": [
    "## 7. Right_Half_Diamond_Pattern"
   ]
  },
  {
   "cell_type": "code",
   "execution_count": 12,
   "metadata": {},
   "outputs": [
    {
     "name": "stdout",
     "output_type": "stream",
     "text": [
      "enter no of rows:4\n",
      "* \n",
      "* * \n",
      "* * * \n",
      "* * * * \n",
      "* * * \n",
      "* * \n",
      "* \n"
     ]
    }
   ],
   "source": [
    "n=int(input(\"enter no of rows:\"))\n",
    "for i in range(n):\n",
    "    print((i+1)*('* '))\n",
    "for i in range(n-1):\n",
    "    print((n-i-1)*('* '))"
   ]
  },
  {
   "cell_type": "code",
   "execution_count": 1,
   "metadata": {},
   "outputs": [
    {
     "name": "stdout",
     "output_type": "stream",
     "text": [
      "enter no of rows:4\n",
      "1 \n",
      "2 2 \n",
      "3 3 3 \n",
      "4 4 4 4 \n",
      "3 3 3 \n",
      "2 2 \n",
      "1 \n"
     ]
    }
   ],
   "source": [
    "n=int(input(\"enter no of rows:\"))\n",
    "for i in range(n):\n",
    "    print((str(i+1)+' ')*(i+1))\n",
    "for i in range(n-1):\n",
    "    print((str(n-i-1)+' ')*(n-i-1))"
   ]
  },
  {
   "cell_type": "code",
   "execution_count": 6,
   "metadata": {},
   "outputs": [
    {
     "name": "stdout",
     "output_type": "stream",
     "text": [
      "enter no of rows:4\n",
      "A \n",
      "B B \n",
      "C C C \n",
      "D D D D \n",
      "C C C \n",
      "B B \n",
      "A \n"
     ]
    }
   ],
   "source": [
    "n=int(input(\"enter no of rows:\"))\n",
    "for i in range(n):\n",
    "    print((chr(65+i)+' ')*(i+1))\n",
    "for i in range(n-1):\n",
    "    print((chr(63+n-i)+' ')*(n-i-1))"
   ]
  },
  {
   "cell_type": "code",
   "execution_count": 9,
   "metadata": {},
   "outputs": [
    {
     "name": "stdout",
     "output_type": "stream",
     "text": [
      "enter no of rows:4\n",
      "1 \n",
      "1 2 \n",
      "1 2 3 \n",
      "1 2 3 4 \n",
      "1 2 3 \n",
      "1 2 \n",
      "1 \n"
     ]
    }
   ],
   "source": [
    "n=int(input(\"enter no of rows:\"))\n",
    "for i in range(n):\n",
    "    for j in range(i+1):\n",
    "        print(j+1,end=' ')\n",
    "    print()\n",
    "for i in range(n-1):\n",
    "    for j in range(n-i-1):\n",
    "        print(j+1,end=\" \")\n",
    "    print()"
   ]
  },
  {
   "cell_type": "code",
   "execution_count": 18,
   "metadata": {},
   "outputs": [
    {
     "name": "stdout",
     "output_type": "stream",
     "text": [
      "enter no of rows:4\n",
      "A \n",
      "A B \n",
      "A B C \n",
      "A B C D \n",
      "A B C \n",
      "A B \n",
      "A \n"
     ]
    }
   ],
   "source": [
    "n=int(input(\"enter no of rows:\"))\n",
    "for i in range(n):\n",
    "    for j in range(i+1):\n",
    "        print(chr(65+j),end=' ')\n",
    "    print()\n",
    "for i in range(n-1):\n",
    "    for j in range(n-i-1):\n",
    "        print(chr(65+j),end=\" \")\n",
    "    print()"
   ]
  },
  {
   "cell_type": "code",
   "execution_count": 5,
   "metadata": {},
   "outputs": [
    {
     "name": "stdout",
     "output_type": "stream",
     "text": [
      "enter no of rows:4\n",
      "4 \n",
      "4 3 \n",
      "4 3 2 \n",
      "4 3 2 1 \n",
      "4 3 2 \n",
      "4 3 \n",
      "4 \n"
     ]
    }
   ],
   "source": [
    "n=int(input(\"enter no of rows:\"))\n",
    "for i in range(n):\n",
    "    for j in range(i+1):\n",
    "        print(n-j,end=\" \")\n",
    "    print()\n",
    "for i in range(n-1):\n",
    "    for j in range(n-i-1):\n",
    "        print(n-j,end=\" \")\n",
    "    print()"
   ]
  },
  {
   "cell_type": "code",
   "execution_count": 11,
   "metadata": {},
   "outputs": [
    {
     "name": "stdout",
     "output_type": "stream",
     "text": [
      "enter no of rows:4\n",
      "D \n",
      "D C \n",
      "D C B \n",
      "D C B A \n",
      "D C B \n",
      "D C \n",
      "D \n"
     ]
    }
   ],
   "source": [
    "n=int(input(\"enter no of rows:\"))\n",
    "for i in range(n):\n",
    "    for j in range(i+1):\n",
    "        print(chr(64+n-j),end=\" \")\n",
    "    print()\n",
    "for i in range(n-1):\n",
    "    for j in range(n-i-1):\n",
    "        print(chr(64+n-j),end=\" \")\n",
    "    print()"
   ]
  },
  {
   "cell_type": "markdown",
   "metadata": {},
   "source": [
    "## 8. Left_Half_Diamond_Problem"
   ]
  },
  {
   "cell_type": "code",
   "execution_count": 13,
   "metadata": {},
   "outputs": [
    {
     "name": "stdout",
     "output_type": "stream",
     "text": [
      "enter no of rows:4\n",
      "      * \n",
      "    * * \n",
      "  * * * \n",
      "* * * * \n",
      "  * * * \n",
      "    * * \n",
      "      * \n"
     ]
    }
   ],
   "source": [
    "n=int(input(\"enter no of rows:\"))\n",
    "for i in range(n):\n",
    "    print('  '*(n-i-1)+\"* \"*(i+1))\n",
    "for i in range(n-1):\n",
    "    print('  '*(i+1)+\"* \"*(n-i-1))"
   ]
  },
  {
   "cell_type": "code",
   "execution_count": 17,
   "metadata": {},
   "outputs": [
    {
     "name": "stdout",
     "output_type": "stream",
     "text": [
      "enter no of rows:4\n",
      "      1 \n",
      "    2 2 \n",
      "  3 3 3 \n",
      "4 4 4 4 \n",
      "  3 3 3 \n",
      "    2 2 \n",
      "      1 \n"
     ]
    }
   ],
   "source": [
    "n=int(input(\"enter no of rows:\"))\n",
    "for i in range(n):\n",
    "    print('  '*(n-i-1)+(str(i+1)+\" \")*(i+1))\n",
    "for i in range(n-1):\n",
    "    print('  '*(i+1)+(str(n-i-1)+\" \")*(n-i-1))"
   ]
  },
  {
   "cell_type": "code",
   "execution_count": 21,
   "metadata": {},
   "outputs": [
    {
     "name": "stdout",
     "output_type": "stream",
     "text": [
      "enter no of rows:4\n",
      "      A \n",
      "    B B \n",
      "  C C C \n",
      "D D D D \n",
      "  C C C \n",
      "    B B \n",
      "      A \n"
     ]
    }
   ],
   "source": [
    "n=int(input(\"enter no of rows:\"))\n",
    "for i in range(n):\n",
    "    print('  '*(n-i-1)+(chr(65+i)+\" \")*(i+1))\n",
    "for i in range(n-1):\n",
    "    print('  '*(i+1)+(chr(63+n-i)+\" \")*(n-i-1))"
   ]
  },
  {
   "cell_type": "code",
   "execution_count": 27,
   "metadata": {},
   "outputs": [
    {
     "name": "stdout",
     "output_type": "stream",
     "text": [
      "enter no of rows:4\n",
      "       1 \n",
      "     1 2 \n",
      "   1 2 3 \n",
      " 1 2 3 4 \n",
      "   1 2 3 \n",
      "     1 2 \n",
      "       1 \n"
     ]
    }
   ],
   "source": [
    "n=int(input(\"enter no of rows:\"))\n",
    "for i in range(n):\n",
    "    print('  '*(n-i-1),end=' ')\n",
    "    for j in range(i+1):\n",
    "        print(j+1,end=\" \")\n",
    "    print()\n",
    "for i in range(n-1):\n",
    "    print('  '*(i+1),end=' ')\n",
    "    for j in range(n-i-1):\n",
    "        print(j+1,end=\" \")\n",
    "    print()"
   ]
  },
  {
   "cell_type": "code",
   "execution_count": 33,
   "metadata": {},
   "outputs": [
    {
     "name": "stdout",
     "output_type": "stream",
     "text": [
      "enter no of rows:4\n",
      "       A \n",
      "     A B \n",
      "   A B C \n",
      " A B C D \n",
      "   A B C \n",
      "     A B \n",
      "       A \n"
     ]
    }
   ],
   "source": [
    "n=int(input(\"enter no of rows:\"))\n",
    "for i in range(n):\n",
    "    print('  '*(n-i-1),end=' ')\n",
    "    for j in range(i+1):\n",
    "        print(chr(65+j),end=\" \")\n",
    "    print()\n",
    "for i in range(n-1):\n",
    "    print('  '*(i+1),end=' ')\n",
    "    for j in range(n-i-1):\n",
    "        print(chr(65+j),end=\" \")\n",
    "    print()"
   ]
  },
  {
   "cell_type": "code",
   "execution_count": null,
   "metadata": {},
   "outputs": [],
   "source": []
  },
  {
   "cell_type": "code",
   "execution_count": null,
   "metadata": {},
   "outputs": [],
   "source": []
  },
  {
   "cell_type": "code",
   "execution_count": 1,
   "metadata": {},
   "outputs": [],
   "source": [
    "## Alphbates_Pattern"
   ]
  },
  {
   "cell_type": "code",
   "execution_count": 6,
   "metadata": {},
   "outputs": [
    {
     "name": "stdout",
     "output_type": "stream",
     "text": [
      "  * * *   \n",
      "*       * \n",
      "*       * \n",
      "* * * * * \n",
      "*       * \n",
      "*       * \n",
      "*       * \n"
     ]
    }
   ],
   "source": [
    "for row in range(7):\n",
    "    for col in range(5):\n",
    "        if (row==0) and (col in {1,2,3}):\n",
    "            print(\"*\",end=\" \")\n",
    "        elif (row in {1,2,4,5,6}) and (col in {0,4}):\n",
    "            print(\"*\",end=\" \")\n",
    "        elif (row==3):\n",
    "            print(\"*\",end=\" \")\n",
    "        else:\n",
    "            print(' ',end=\" \")\n",
    "    print()\n",
    "            "
   ]
  },
  {
   "cell_type": "code",
   "execution_count": 7,
   "metadata": {},
   "outputs": [
    {
     "name": "stdout",
     "output_type": "stream",
     "text": [
      "* * * *   \n",
      "*       * \n",
      "*       * \n",
      "* * * *   \n",
      "*       * \n",
      "*       * \n",
      "* * * *   \n"
     ]
    }
   ],
   "source": [
    "for row in range(7):\n",
    "    for col in range(5):\n",
    "        if (row in {0,3,6}) and (col in {0,1,2,3}):\n",
    "            print(\"*\",end=\" \")\n",
    "        elif (row in {1,2,4,5}) and (col in {0,4}):\n",
    "            print(\"*\",end=\" \")\n",
    "        else:\n",
    "            print(' ',end=\" \")\n",
    "    print()"
   ]
  },
  {
   "cell_type": "code",
   "execution_count": 9,
   "metadata": {},
   "outputs": [
    {
     "name": "stdout",
     "output_type": "stream",
     "text": [
      "  * * *   \n",
      "*       * \n",
      "*         \n",
      "*         \n",
      "*         \n",
      "*       * \n",
      "  * * *   \n"
     ]
    }
   ],
   "source": [
    "for row in range(7):\n",
    "    for col in range(5):\n",
    "        if (row in {0,6}) and (col in {1,2,3}):\n",
    "            print(\"*\",end=\" \")\n",
    "        elif (row in {1,5}) and (col in {0,4}):\n",
    "            print(\"*\",end=\" \")\n",
    "        elif (row in {2,3,4}) and (col==0):\n",
    "            print(\"*\",end=\" \")\n",
    "        else:\n",
    "            print(' ',end=\" \")\n",
    "    print()"
   ]
  },
  {
   "cell_type": "code",
   "execution_count": 10,
   "metadata": {},
   "outputs": [
    {
     "name": "stdout",
     "output_type": "stream",
     "text": [
      "* * * *   \n",
      "*       * \n",
      "*       * \n",
      "*       * \n",
      "*       * \n",
      "*       * \n",
      "* * * *   \n"
     ]
    }
   ],
   "source": [
    "for row in range(7):\n",
    "    for col in range(5):\n",
    "        if (row in {0,6}) and (col in {0,1,2,3}):\n",
    "            print(\"*\",end=\" \")\n",
    "        elif (row in {1,2,3,4,5}) and (col in {0,4}):\n",
    "            print(\"*\",end=\" \")\n",
    "        else:\n",
    "            print(' ',end=\" \")\n",
    "    print()"
   ]
  },
  {
   "cell_type": "code",
   "execution_count": 11,
   "metadata": {},
   "outputs": [
    {
     "name": "stdout",
     "output_type": "stream",
     "text": [
      "* * * * * \n",
      "*         \n",
      "*         \n",
      "* * * * * \n",
      "*         \n",
      "*         \n",
      "* * * * * \n"
     ]
    }
   ],
   "source": [
    "for row in range(7):\n",
    "    for col in range(5):\n",
    "        if (row in {0,3,6}) and (col in {0,1,2,3,4}):\n",
    "            print(\"*\",end=\" \")\n",
    "        elif (row in {1,2,4,5}) and (col==0):\n",
    "            print(\"*\",end=\" \")\n",
    "        else:\n",
    "            print(' ',end=\" \")\n",
    "    print()"
   ]
  },
  {
   "cell_type": "code",
   "execution_count": 12,
   "metadata": {},
   "outputs": [
    {
     "name": "stdout",
     "output_type": "stream",
     "text": [
      "* * * * * \n",
      "*         \n",
      "*         \n",
      "* * * * * \n",
      "*         \n",
      "*         \n",
      "*         \n"
     ]
    }
   ],
   "source": [
    "for row in range(7):\n",
    "    for col in range(5):\n",
    "        if (row in {0,3}) and (col in {0,1,2,3,4}):\n",
    "            print(\"*\",end=\" \")\n",
    "        elif (row in {1,2,4,5,6}) and (col==0):\n",
    "            print(\"*\",end=\" \")\n",
    "        else:\n",
    "            print(' ',end=\" \")\n",
    "    print()"
   ]
  },
  {
   "cell_type": "code",
   "execution_count": 2,
   "metadata": {},
   "outputs": [
    {
     "name": "stdout",
     "output_type": "stream",
     "text": [
      "  * * *   \n",
      "*       * \n",
      "*         \n",
      "*   * * * \n",
      "*       * \n",
      "*       * \n",
      "  * * *   \n"
     ]
    }
   ],
   "source": [
    "for row in range(7):\n",
    "    for col in range(5):\n",
    "        if (row in {0,6}) and (col in {1,2,3}):\n",
    "            print(\"*\",end=\" \")\n",
    "        elif (row in {1,4,5}) and (col in {0,4}):\n",
    "            print(\"*\",end=\" \")\n",
    "        elif(row==2) and (col==0):\n",
    "            print(\"*\",end=\" \")\n",
    "        elif(row==3) and (col in {0,2,3,4}):\n",
    "            print(\"*\",end=\" \")\n",
    "        else:\n",
    "            print(' ',end=\" \")\n",
    "    print()"
   ]
  },
  {
   "cell_type": "code",
   "execution_count": 16,
   "metadata": {},
   "outputs": [
    {
     "name": "stdout",
     "output_type": "stream",
     "text": [
      "*       * \n",
      "*       * \n",
      "*       * \n",
      "* * * * * \n",
      "*       * \n",
      "*       * \n",
      "*       * \n"
     ]
    }
   ],
   "source": [
    "for row in range(7):\n",
    "    for col in range(5):\n",
    "        if (row in {0,1,2,4,5,6}) and (col in {0,4}):\n",
    "            print(\"*\",end=\" \")\n",
    "        elif (row==3) and (col in {0,1,2,3,4}):\n",
    "            print(\"*\",end=\" \")\n",
    "        else:\n",
    "            print(' ',end=\" \")\n",
    "    print()"
   ]
  },
  {
   "cell_type": "code",
   "execution_count": 20,
   "metadata": {},
   "outputs": [
    {
     "name": "stdout",
     "output_type": "stream",
     "text": [
      "* * * * * \n",
      "    *     \n",
      "    *     \n",
      "    *     \n",
      "    *     \n",
      "    *     \n",
      "* * * * * \n"
     ]
    }
   ],
   "source": [
    "for row in range(7):\n",
    "    for col in range(5):\n",
    "        if (row in {0,6}) and (col in {0,1,2,3,4}):\n",
    "            print(\"*\",end=\" \")\n",
    "        elif (row in {1,2,3,4,5}) and (col==2):\n",
    "            print(\"*\",end=\" \")\n",
    "        else:\n",
    "            print(' ',end=\" \")\n",
    "    print()"
   ]
  },
  {
   "cell_type": "code",
   "execution_count": 23,
   "metadata": {},
   "outputs": [
    {
     "name": "stdout",
     "output_type": "stream",
     "text": [
      "* * * * * \n",
      "    *     \n",
      "    *     \n",
      "    *     \n",
      "    *     \n",
      "*   *     \n",
      "  *       \n"
     ]
    }
   ],
   "source": [
    "for row in range(7):\n",
    "    for col in range(5):\n",
    "        if (row==0) and (col in {0,1,2,3,4}):\n",
    "            print(\"*\",end=\" \")\n",
    "        elif (row in {1,2,3,4} and (col==2)):\n",
    "            print(\"*\",end=\" \")\n",
    "        elif (row==6) and (col==1):\n",
    "            print(\"*\",end=\" \")\n",
    "        elif (row==5) and (col in {0,2}):\n",
    "            print(\"*\",end=\" \")\n",
    "        else:\n",
    "            print(' ',end=\" \")\n",
    "    print()"
   ]
  },
  {
   "cell_type": "code",
   "execution_count": 3,
   "metadata": {},
   "outputs": [
    {
     "name": "stdout",
     "output_type": "stream",
     "text": [
      "*       * \n",
      "*     *   \n",
      "*   *     \n",
      "* *       \n",
      "*   *     \n",
      "*     *   \n",
      "*       * \n"
     ]
    }
   ],
   "source": [
    "for row in range(7):\n",
    "    for col in range(5):\n",
    "        if (row in {0,6}) and (col in {0,4}):\n",
    "            print(\"*\",end=\" \")\n",
    "        elif (row in {1,5} and (col in {0,3})):\n",
    "            print(\"*\",end=\" \")\n",
    "        elif (row in {2,4}) and (col in {0,2}):\n",
    "            print(\"*\",end=\" \")\n",
    "        elif (row==3) and (col in {0,1}):\n",
    "            print(\"*\",end=\" \")\n",
    "        else:\n",
    "            print(' ',end=\" \")\n",
    "    print()"
   ]
  },
  {
   "cell_type": "code",
   "execution_count": 26,
   "metadata": {},
   "outputs": [
    {
     "name": "stdout",
     "output_type": "stream",
     "text": [
      "*         \n",
      "*         \n",
      "*         \n",
      "*         \n",
      "*         \n",
      "*         \n",
      "* * * * * \n"
     ]
    }
   ],
   "source": [
    "for row in range(7):\n",
    "    for col in range(5):\n",
    "        if (row in {0,1,2,3,4,5}) and (col==0):\n",
    "            print(\"*\",end=\" \")\n",
    "        elif (row==6) and (col in {0,1,2,3,4}):\n",
    "            print(\"*\",end=\" \")\n",
    "        else:\n",
    "            print(' ',end=\" \")\n",
    "    print()"
   ]
  },
  {
   "cell_type": "code",
   "execution_count": 4,
   "metadata": {},
   "outputs": [
    {
     "name": "stdout",
     "output_type": "stream",
     "text": [
      "*       * \n",
      "* *   * * \n",
      "*   *   * \n",
      "*       * \n",
      "*       * \n",
      "*       * \n",
      "*       * \n"
     ]
    }
   ],
   "source": [
    "for row in range(7):\n",
    "    for col in range(5):\n",
    "        if (row in {3,4,5,6}) and (col in {0,4}):\n",
    "            print(\"*\",end=\" \")\n",
    "        elif (row==0) and (col in {0,4}):\n",
    "            print(\"*\",end=\" \")\n",
    "        elif (row==1) and (col in {0,1,3,4}):\n",
    "            print(\"*\",end=\" \")\n",
    "        elif (row==2) and (col in {0,2,4}):\n",
    "            print(\"*\",end=\" \")\n",
    "        else:\n",
    "            print(' ',end=\" \")\n",
    "    print()"
   ]
  },
  {
   "cell_type": "code",
   "execution_count": 5,
   "metadata": {},
   "outputs": [
    {
     "name": "stdout",
     "output_type": "stream",
     "text": [
      "*         * \n",
      "* *       * \n",
      "*   *     * \n",
      "*     *   * \n",
      "*       * * \n",
      "*         * \n"
     ]
    }
   ],
   "source": [
    "#In N 6*6 especial case\n",
    "for row in range(6):\n",
    "    for col in range(6):\n",
    "        if (row in {0,5}) and (col in {0,5}):\n",
    "            print(\"*\",end=\" \")\n",
    "        elif (row==1) and (col in {0,1,5}):\n",
    "            print(\"*\",end=\" \")\n",
    "        elif (row==2) and (col in {0,2,5}):\n",
    "            print(\"*\",end=\" \")\n",
    "        elif (row==3) and (col in {0,3,5}):\n",
    "            print(\"*\",end=\" \")\n",
    "        elif (row==4) and (col in {0,4,5}):\n",
    "            print(\"*\",end=\" \")\n",
    "        else:\n",
    "            print(' ',end=\" \")\n",
    "    print()"
   ]
  },
  {
   "cell_type": "code",
   "execution_count": 27,
   "metadata": {},
   "outputs": [
    {
     "name": "stdout",
     "output_type": "stream",
     "text": [
      "  * * *   \n",
      "*       * \n",
      "*       * \n",
      "*       * \n",
      "*       * \n",
      "*       * \n",
      "  * * *   \n"
     ]
    }
   ],
   "source": [
    "for row in range(7):\n",
    "    for col in range(5):\n",
    "        if (row in {0,6}) and (col in {1,2,3}):\n",
    "            print(\"*\",end=\" \")\n",
    "        elif (row in {1,2,3,4,5}) and (col in {0,4}):\n",
    "            print(\"*\",end=\" \")\n",
    "        else:\n",
    "            print(' ',end=\" \")\n",
    "    print()"
   ]
  },
  {
   "cell_type": "code",
   "execution_count": 9,
   "metadata": {},
   "outputs": [
    {
     "name": "stdout",
     "output_type": "stream",
     "text": [
      "  * * * * \n",
      "*       * \n",
      "*       * \n",
      "* * * *   \n",
      "*         \n",
      "*         \n",
      "*         \n"
     ]
    }
   ],
   "source": [
    "for row in range(7):\n",
    "    for col in range(5):\n",
    "        if (row==0) and (col in {1,2,3,4}):\n",
    "            print(\"*\",end=\" \")\n",
    "        elif (row in {1,2}) and (col in {0,4}):\n",
    "            print(\"*\",end=\" \")\n",
    "        elif (row==3) and (col in {0,1,2,3}):\n",
    "            print(\"*\",end=\" \")\n",
    "        elif (row in {4,5,6}) and (col==0):\n",
    "            print(\"*\",end=\" \")\n",
    "        else:\n",
    "            print(' ',end=\" \")\n",
    "    print()"
   ]
  },
  {
   "cell_type": "code",
   "execution_count": 14,
   "metadata": {},
   "outputs": [
    {
     "name": "stdout",
     "output_type": "stream",
     "text": [
      "  * * *   \n",
      "*       * \n",
      "*       * \n",
      "*       * \n",
      "* *     * \n",
      "  * * *   \n",
      "      *   \n"
     ]
    }
   ],
   "source": [
    "for row in range(7):\n",
    "    for col in range(5):\n",
    "        if (row in {0,5}) and (col in {1,2,3}):\n",
    "            print(\"*\",end=\" \")\n",
    "        elif (row in {1,2,3}) and (col in {0,4}):\n",
    "            print(\"*\",end=\" \")\n",
    "        elif (row==4) and (col in{0,1,4}):\n",
    "            print(\"*\",end=\" \")\n",
    "        elif (row==6) and (col==3):\n",
    "            print(\"*\",end=\" \")\n",
    "        else:\n",
    "            print(' ',end=\" \")\n",
    "    print()"
   ]
  },
  {
   "cell_type": "code",
   "execution_count": 15,
   "metadata": {},
   "outputs": [
    {
     "name": "stdout",
     "output_type": "stream",
     "text": [
      "* * * *   \n",
      "*       * \n",
      "*       * \n",
      "* * * *   \n",
      "*       * \n",
      "*       * \n",
      "*       * \n"
     ]
    }
   ],
   "source": [
    "for row in range(7):\n",
    "    for col in range(5):\n",
    "        if (row in {0,3}) and (col in {0,1,2,3}):\n",
    "            print(\"*\",end=\" \")\n",
    "        elif (row in {1,2,4,5,6}) and (col in {0,4}):\n",
    "            print(\"*\",end=\" \")\n",
    "        else:\n",
    "            print(' ',end=\" \")\n",
    "    print()"
   ]
  },
  {
   "cell_type": "code",
   "execution_count": 17,
   "metadata": {},
   "outputs": [
    {
     "name": "stdout",
     "output_type": "stream",
     "text": [
      "  * * *   \n",
      "*         \n",
      "*         \n",
      "  * * *   \n",
      "        * \n",
      "        * \n",
      "  * * *   \n"
     ]
    }
   ],
   "source": [
    "for row in range(7):\n",
    "    for col in range(5):\n",
    "        if (row in {0,3,6}) and (col in {1,2,3}):\n",
    "            print(\"*\",end=\" \")\n",
    "        elif (row in {1,2}) and (col==0):\n",
    "            print(\"*\",end=\" \")\n",
    "        elif (row in {4,5}) and (col==4):\n",
    "            print(\"*\",end=\" \")\n",
    "        else:\n",
    "            print(' ',end=\" \")\n",
    "    print()"
   ]
  },
  {
   "cell_type": "code",
   "execution_count": 28,
   "metadata": {},
   "outputs": [
    {
     "name": "stdout",
     "output_type": "stream",
     "text": [
      "* * * * * \n",
      "    *     \n",
      "    *     \n",
      "    *     \n",
      "    *     \n",
      "    *     \n",
      "    *     \n"
     ]
    }
   ],
   "source": [
    "for row in range(7):\n",
    "    for col in range(5):\n",
    "        if (row==0) and (col in {0,1,2,3,4}):\n",
    "            print(\"*\",end=\" \")\n",
    "        elif (row in {1,2,3,4,5,6}) and (col==2):\n",
    "            print(\"*\",end=\" \")\n",
    "        else:\n",
    "            print(' ',end=\" \")\n",
    "    print()"
   ]
  },
  {
   "cell_type": "code",
   "execution_count": 18,
   "metadata": {},
   "outputs": [
    {
     "name": "stdout",
     "output_type": "stream",
     "text": [
      "*       * \n",
      "*       * \n",
      "*       * \n",
      "*       * \n",
      "*       * \n",
      "*       * \n",
      "  * * *   \n"
     ]
    }
   ],
   "source": [
    "for row in range(7):\n",
    "    for col in range(5):\n",
    "        if (row in {0,1,2,3,4,5}) and (col in {0,4}):\n",
    "            print(\"*\",end=\" \")\n",
    "        elif (row==6) and (col in {1,2,3}):\n",
    "            print(\"*\",end=\" \")\n",
    "        else:\n",
    "            print(' ',end=\" \")\n",
    "    print()"
   ]
  },
  {
   "cell_type": "code",
   "execution_count": 19,
   "metadata": {},
   "outputs": [
    {
     "name": "stdout",
     "output_type": "stream",
     "text": [
      "*           * \n",
      "  *       *   \n",
      "    *   *     \n",
      "      *       \n"
     ]
    }
   ],
   "source": [
    "#In N 4*7 especial case\n",
    "for row in range(4):\n",
    "    for col in range(7):\n",
    "        if (row==0) and (col in {0,6}):\n",
    "            print(\"*\",end=\" \")\n",
    "        elif (row==1) and (col in {1,5}):\n",
    "            print(\"*\",end=\" \")\n",
    "        elif (row==2) and (col in {2,4}):\n",
    "            print(\"*\",end=\" \")\n",
    "        elif (row==3) and (col==3):\n",
    "            print(\"*\",end=\" \")\n",
    "        else:\n",
    "            print(' ',end=\" \")\n",
    "    print()"
   ]
  },
  {
   "cell_type": "code",
   "execution_count": 20,
   "metadata": {},
   "outputs": [
    {
     "name": "stdout",
     "output_type": "stream",
     "text": [
      "*           * \n",
      "*           * \n",
      "*           * \n",
      "*     *     * \n",
      "*   *   *   * \n",
      "* *       * * \n",
      "*           * \n"
     ]
    }
   ],
   "source": [
    "#In N 7*7 especial case\n",
    "for row in range(7):\n",
    "    for col in range(7):\n",
    "        if (row in {0,1,2,6}) and (col in {0,6}):\n",
    "            print(\"*\",end=\" \")\n",
    "        elif (row==3) and (col in {0,3,6}):\n",
    "            print(\"*\",end=\" \")\n",
    "        elif (row==4) and (col in {0,2,4,6}):\n",
    "            print(\"*\",end=\" \")\n",
    "        elif (row==5) and (col in {0,1,5,6}):\n",
    "            print(\"*\",end=\" \")\n",
    "        else:\n",
    "            print(' ',end=\" \")\n",
    "    print()"
   ]
  },
  {
   "cell_type": "code",
   "execution_count": 22,
   "metadata": {},
   "outputs": [
    {
     "name": "stdout",
     "output_type": "stream",
     "text": [
      "*           * \n",
      "  *       *   \n",
      "    *   *     \n",
      "      *       \n",
      "    *   *     \n",
      "  *       *   \n",
      "*           * \n"
     ]
    }
   ],
   "source": [
    "#In N 7*7 especial case\n",
    "for row in range(7):\n",
    "    for col in range(7):\n",
    "        if (row in {0,6}) and (col in {0,6}):\n",
    "            print(\"*\",end=\" \")\n",
    "        elif (row in {1,5}) and (col in {1,5}):\n",
    "            print(\"*\",end=\" \")\n",
    "        elif (row in {2,4}) and (col in {2,4}):\n",
    "            print(\"*\",end=\" \")\n",
    "        elif (row==3) and (col==3):\n",
    "            print(\"*\",end=\" \")\n",
    "        else:\n",
    "            print(' ',end=\" \")\n",
    "    print()"
   ]
  },
  {
   "cell_type": "code",
   "execution_count": 23,
   "metadata": {},
   "outputs": [
    {
     "name": "stdout",
     "output_type": "stream",
     "text": [
      "*           * \n",
      "  *       *   \n",
      "    *   *     \n",
      "      *       \n",
      "      *       \n",
      "      *       \n",
      "      *       \n"
     ]
    }
   ],
   "source": [
    "#In N 7*7 especial case\n",
    "for row in range(7):\n",
    "    for col in range(7):\n",
    "        if (row==0) and (col in {0,6}):\n",
    "            print(\"*\",end=\" \")\n",
    "        elif (row==1) and (col in {1,5}):\n",
    "            print(\"*\",end=\" \")\n",
    "        elif (row==2) and (col in {2,4}):\n",
    "            print(\"*\",end=\" \")\n",
    "        elif (row==3) and (col==3):\n",
    "            print(\"*\",end=\" \")\n",
    "        elif (row in {4,5,6}) and (col==3):\n",
    "            print(\"*\",end=\" \")\n",
    "        else:\n",
    "            print(' ',end=\" \")\n",
    "    print()\n",
    "        "
   ]
  },
  {
   "cell_type": "code",
   "execution_count": 27,
   "metadata": {},
   "outputs": [
    {
     "name": "stdout",
     "output_type": "stream",
     "text": [
      "* * * * * \n",
      "      *   \n",
      "    *     \n",
      "  *       \n",
      "* * * * * \n"
     ]
    }
   ],
   "source": [
    "#It is also a special case in which we can print 4*4,5*5,6*6,7*7 and so on.\n",
    "for row in range(5):\n",
    "    for col in range(5):\n",
    "        if (row in {0,4}) and (col in {0,1,2,3,4}):\n",
    "            print(\"*\",end=\" \")\n",
    "        elif (row==1) and (col==3):\n",
    "            print(\"*\",end=\" \")\n",
    "        elif (row==2) and (col==2):\n",
    "            print(\"*\",end=\" \")\n",
    "        elif (row==3) and (col==1):\n",
    "            print(\"*\",end=\" \")\n",
    "        else:\n",
    "            print(' ',end=\" \")\n",
    "    print()"
   ]
  },
  {
   "cell_type": "code",
   "execution_count": null,
   "metadata": {},
   "outputs": [],
   "source": []
  }
 ],
 "metadata": {
  "kernelspec": {
   "display_name": "Python 3",
   "language": "python",
   "name": "python3"
  },
  "language_info": {
   "codemirror_mode": {
    "name": "ipython",
    "version": 3
   },
   "file_extension": ".py",
   "mimetype": "text/x-python",
   "name": "python",
   "nbconvert_exporter": "python",
   "pygments_lexer": "ipython3",
   "version": "3.7.4"
  }
 },
 "nbformat": 4,
 "nbformat_minor": 2
}
